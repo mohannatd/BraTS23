{
  "cells": [
    {
      "cell_type": "markdown",
      "source": [
        "# Settup"
      ],
      "metadata": {
        "id": "XJKPa_K3eisE"
      },
      "id": "XJKPa_K3eisE"
    },
    {
      "cell_type": "code",
      "source": [
        "import os\n",
        "!pip install nnunetv2\n",
        "# os.kill(os.getpid(), 9)\n",
        "# restart kernel after this instalatin"
      ],
      "metadata": {
        "id": "y4rgqXNXi4C9"
      },
      "id": "y4rgqXNXi4C9",
      "execution_count": null,
      "outputs": []
    },
    {
      "cell_type": "code",
      "execution_count": null,
      "id": "41bd5232-0a5c-4dbd-98a6-58c6667d03be",
      "metadata": {
        "scrolled": true,
        "id": "41bd5232-0a5c-4dbd-98a6-58c6667d03be",
        "colab": {
          "base_uri": "https://localhost:8080/"
        },
        "outputId": "800247d1-4547-4d68-cdbb-6ab101304f1b"
      },
      "outputs": [
        {
          "output_type": "stream",
          "name": "stdout",
          "text": [
            "\n",
            "  inflating: Dataset013_BraTS2021/nnUNetTrainerDiceCELoss_noSmooth__nnUNetPlans__3d_fullres/plans.json  \n",
            "  inflating: Dataset013_BraTS2021/nnUNetTrainerDiceCELoss_noSmooth__nnUNetPlans__3d_fullres/dataset.json  \n",
            "  inflating: Dataset013_BraTS2021/nnUNetTrainerDiceCELoss_noSmooth__nnUNetPlans__3d_fullres/dataset_fingerprint.json  \n"
          ]
        }
      ],
      "source": [
        "# download our model weights\n",
        "!gdown --id 1wsxlOdcL0Gjw8k9ZUt4-x-V1EqnOp0SJ\n",
        "!nuzip /content/final.zip\n",
        "!rm /content/final.zip\n",
        "\n",
        "!mkdir /content/test\n",
        "\n",
        "# download our model trainer\n",
        "!gdown --id 1irRkyM2X7hipHmWI0bb5FPm2uBj4xloh\n",
        "!cp /content/nnUNetTrainerDiceLoss.py /usr/local/lib/python3.10/dist-packages/nnunetv2/training/nnUNetTrainer # copy trainer to nnunet\n",
        "from nnunetv2.training.nnUNetTrainer.nnUNetTrainerDiceLoss import nnUNetTrainerDiceCELoss_noSmooth\n",
        "\n",
        "import os\n",
        "import cv2\n",
        "import torch\n",
        "import shutil\n",
        "import numpy as np\n",
        "import torch.nn as nn\n",
        "from PIL import Image\n",
        "import nibabel as nib\n",
        "import multiprocessing\n",
        "import SimpleITK as sitk\n",
        "import matplotlib.cm as cm\n",
        "import matplotlib.pyplot as plt\n",
        "import torch.nn.functional as F\n",
        "from multiprocessing import Pool\n",
        "from IPython.display import clear_output\n",
        "from torchvision.models.vgg import vgg19\n",
        "from sklearn.preprocessing import MinMaxScaler\n",
        "from batchgenerators.utilities.file_and_folder_operations import *\n",
        "from nnunetv2.dataset_conversion.generate_dataset_json import generate_dataset_json\n",
        "\n",
        "scaler = MinMaxScaler()\n",
        "\n",
        "os.environ[\"nnUNet_raw\"] = '/content'\n",
        "os.environ[\"nnUNet_preprocessed\"] = '/content'\n",
        "os.environ[\"nnUNet_results\"] = '/content'"
      ]
    },
    {
      "cell_type": "code",
      "source": [
        "def percentage(part, whole):\n",
        "  Percentage = 100 * part/whole\n",
        "  return str(round(Percentage)) + \"%\""
      ],
      "metadata": {
        "id": "Uj5-u8Hfn9uK"
      },
      "id": "Uj5-u8Hfn9uK",
      "execution_count": null,
      "outputs": []
    },
    {
      "cell_type": "markdown",
      "source": [
        "## Zero-learning Fusion\n",
        "\n",
        "https://github.com/bsun0802/Zero-Learning-Fast-Medical-Image-Fusion"
      ],
      "metadata": {
        "id": "GYj3XDWv8CNP"
      },
      "id": "GYj3XDWv8CNP"
    },
    {
      "cell_type": "code",
      "execution_count": null,
      "id": "cbba7ea5-e5d5-4413-a7df-d4d7ed37bed1",
      "metadata": {
        "id": "cbba7ea5-e5d5-4413-a7df-d4d7ed37bed1"
      },
      "outputs": [],
      "source": [
        "class VGG19(torch.nn.Module):\n",
        "    def __init__(self, device='cuda'):\n",
        "        super(VGG19, self).__init__()\n",
        "        features = list(vgg19(pretrained=True).features)\n",
        "        if device == \"cuda\":\n",
        "            self.features = nn.ModuleList(features).cuda().eval()\n",
        "        else:\n",
        "            self.features = nn.ModuleList(features).eval()\n",
        "\n",
        "    def forward(self, x):\n",
        "        feature_maps = []\n",
        "        for idx, layer in enumerate(self.features):\n",
        "            x = layer(x)\n",
        "            if idx == 3:\n",
        "                feature_maps.append(x)\n",
        "        return feature_maps\n",
        "\n",
        "\n",
        "class Fusion:\n",
        "    def __init__(self, input):\n",
        "        \"\"\"\n",
        "        Class Fusion constructor\n",
        "\n",
        "        Instance Variables:\n",
        "            self.images: input images\n",
        "            self.model: CNN model, default=vgg19\n",
        "            self.device: either 'cuda' or 'cpu'\n",
        "        \"\"\"\n",
        "        self.input_images = input\n",
        "        self.device = torch.device(\"cuda\" if torch.cuda.is_available() else \"cpu\")\n",
        "        self.model = VGG19(self.device)\n",
        "\n",
        "    def fuse(self):\n",
        "        \"\"\"\n",
        "        A top level method which fuse self.images\n",
        "        \"\"\"\n",
        "        # Convert all images to YCbCr format\n",
        "        self.normalized_images = [-1 for img in self.input_images]\n",
        "        self.YCbCr_images = [-1 for img in self.input_images]\n",
        "        for idx, img in enumerate(self.input_images):\n",
        "            if not self._is_gray(img):\n",
        "                self.YCbCr_images[idx] = self._RGB_to_YCbCr(img)\n",
        "                self.normalized_images[idx] = self.YCbCr_images[idx][:, :, 0]\n",
        "            else:\n",
        "                self.normalized_images[idx] = img / 255.\n",
        "        # Transfer all images to PyTorch tensors\n",
        "        self._tranfer_to_tensor()\n",
        "        # Perform fuse strategy\n",
        "        fused_img = self._fuse()[:, :, 0]\n",
        "        # Reconstruct fused image given rgb input images\n",
        "        for idx, img in enumerate(self.input_images):\n",
        "            if not self._is_gray(img):\n",
        "                self.YCbCr_images[idx][:, :, 0] = fused_img\n",
        "                fused_img = self._YCbCr_to_RGB(self.YCbCr_images[idx])\n",
        "                fused_img = np.clip(fused_img, 0, 1)\n",
        "\n",
        "        return (fused_img * 255).astype(np.uint8)\n",
        "\n",
        "    def _fuse(self):\n",
        "        \"\"\"\n",
        "        Perform fusion algorithm\n",
        "        \"\"\"\n",
        "        with torch.no_grad():\n",
        "\n",
        "            imgs_sum_maps = [-1 for tensor_img in self.images_to_tensors]\n",
        "            for idx, tensor_img in enumerate(self.images_to_tensors):\n",
        "                imgs_sum_maps[idx] = []\n",
        "                feature_maps = self.model(tensor_img)\n",
        "                for feature_map in feature_maps:\n",
        "                    sum_map = torch.sum(feature_map, dim=1, keepdim=True)\n",
        "                    imgs_sum_maps[idx].append(sum_map)\n",
        "\n",
        "            max_fusion = None\n",
        "            for sum_maps in zip(*imgs_sum_maps):\n",
        "                features = torch.cat(sum_maps, dim=1)\n",
        "                weights = self._softmax(F.interpolate(features,\n",
        "                                        size=self.images_to_tensors[0].shape[2:]))\n",
        "                weights = F.interpolate(weights,\n",
        "                                        size=self.images_to_tensors[0].shape[2:])\n",
        "                current_fusion = torch.zeros(self.images_to_tensors[0].shape)\n",
        "                for idx, tensor_img in enumerate(self.images_to_tensors):\n",
        "                    current_fusion += tensor_img * weights[:,idx]\n",
        "                if max_fusion is None:\n",
        "                    max_fusion = current_fusion\n",
        "                else:\n",
        "                    max_fusion = torch.max(max_fusion, current_fusion)\n",
        "\n",
        "            output = np.squeeze(max_fusion.cpu().numpy())\n",
        "            if output.ndim == 3:\n",
        "                output = np.transpose(output, (1, 2, 0))\n",
        "            return output\n",
        "\n",
        "    def _RGB_to_YCbCr(self, img_RGB):\n",
        "        \"\"\"\n",
        "        A private method which converts an RGB image to YCrCb format\n",
        "        \"\"\"\n",
        "        img_RGB = img_RGB.astype(np.float32) / 255.\n",
        "        return cv2.cvtColor(img_RGB, cv2.COLOR_RGB2YCrCb)\n",
        "\n",
        "    def _YCbCr_to_RGB(self, img_YCbCr):\n",
        "        \"\"\"\n",
        "        A private method which converts a YCrCb image to RGB format\n",
        "        \"\"\"\n",
        "        img_YCbCr = img_YCbCr.astype(np.float32)\n",
        "        return cv2.cvtColor(img_YCbCr, cv2.COLOR_YCrCb2RGB)\n",
        "\n",
        "    def _is_gray(self, img):\n",
        "        \"\"\"\n",
        "        A private method which returns True if image is gray, otherwise False\n",
        "        \"\"\"\n",
        "        if len(img.shape) < 3:\n",
        "            return True\n",
        "        if img.shape[2] == 1:\n",
        "            return True\n",
        "        b, g, r = img[:,:,0], img[:,:,1], img[:,:,2]\n",
        "        if (b == g).all() and (b == r).all():\n",
        "            return True\n",
        "        return False\n",
        "\n",
        "    def _softmax(self, tensor):\n",
        "        \"\"\"\n",
        "        A private method which compute softmax ouput of a given tensor\n",
        "        \"\"\"\n",
        "        tensor = torch.exp(tensor)\n",
        "        tensor = tensor / tensor.sum(dim=1, keepdim=True)\n",
        "        return tensor\n",
        "\n",
        "    def _tranfer_to_tensor(self):\n",
        "        \"\"\"\n",
        "        A private method to transfer all input images to PyTorch tensors\n",
        "        \"\"\"\n",
        "        self.images_to_tensors = []\n",
        "        for image in self.normalized_images:\n",
        "            np_input = image.astype(np.float32)\n",
        "            if np_input.ndim == 2:\n",
        "                np_input = np.repeat(np_input[None, None], 3, axis=1)\n",
        "            else:\n",
        "                np_input = np.transpose(np_input, (2, 0, 1))[None]\n",
        "            if self.device == \"cuda\":\n",
        "                self.images_to_tensors.append(torch.from_numpy(np_input).cuda())\n",
        "            else:\n",
        "                self.images_to_tensors.append(torch.from_numpy(np_input))\n"
      ]
    },
    {
      "cell_type": "markdown",
      "source": [
        "# NOTE!! Uplode files in **test** directory with following format:\n",
        "\n",
        "test/\n",
        "\n",
        "  ├─ t2w.nii.gz\n",
        "\n",
        "  ├─ t1c.nii.gz\n",
        "\n",
        "  ├─ t1n.nii.gz\n",
        "\n",
        "  └─ t2f.nii.gz\n",
        "\n",
        "**Guide:**\n",
        "\n",
        "t1n --> T1\n",
        "\n",
        "t1c --> T1CE\n",
        "\n",
        "t2w --> T2\n",
        "\n",
        "t2f --> Flair\n",
        "\n",
        "![Screenshot 2023-08-16 at 5.08.04 PM.png](data:image/png;base64,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)"
      ],
      "metadata": {
        "id": "3ky-rc0HjgLH"
      },
      "id": "3ky-rc0HjgLH"
    },
    {
      "cell_type": "markdown",
      "source": [
        "# Apply Fusion"
      ],
      "metadata": {
        "id": "YGUtksmsgj84"
      },
      "id": "YGUtksmsgj84"
    },
    {
      "cell_type": "code",
      "execution_count": null,
      "id": "961cdff5-b3ea-470f-abc9-0ba5256320f0",
      "metadata": {
        "colab": {
          "base_uri": "https://localhost:8080/"
        },
        "id": "961cdff5-b3ea-470f-abc9-0ba5256320f0",
        "outputId": "ce249498-6da8-4192-e9cf-daa532dc173a"
      },
      "outputs": [
        {
          "output_type": "stream",
          "name": "stdout",
          "text": [
            "99%\n",
            "t1c-t2w\n"
          ]
        }
      ],
      "source": [
        "# apply 3 fusion that we used for our model: 't1n-t1c', 't1c-t2f', 't1c-t2w'\n",
        "\n",
        "def normalizer(image):\n",
        "    img_min = np.min(image)\n",
        "    img_max = np.max(image)\n",
        "    image = (image - img_min ) / ( img_max - img_min)\n",
        "    image = image * 255\n",
        "    return image\n",
        "\n",
        "def zero_learning_fusion(input_images):\n",
        "  FU = Fusion(input_images)\n",
        "  fusion_img = FU.fuse()\n",
        "  return fusion_img\n",
        "\n",
        "base_dir = '/content/test/'\n",
        "# images_path = os.listdir(base_dir)\n",
        "\n",
        "fusion_modes = ['t1n-t1c', 't1c-t2f', 't1c-t2w']\n",
        "\n",
        "images = []\n",
        "\n",
        "for i, mode in enumerate(fusion_modes):\n",
        "    Final_fusion3D = ''\n",
        "    images = [nib.load(base_dir + '{}.nii.gz'.format(mode.split('-')[0])).get_fdata()]\n",
        "    images.append(nib.load(base_dir + '{}.nii.gz'.format(mode.split('-')[1])).get_fdata())\n",
        "    for slice_num in range(155):\n",
        "        if (slice_num%10) == 0:\n",
        "          clear_output()\n",
        "          print(percentage(155*i + slice_num + 1, 155*3))\n",
        "        slices = [normalizer(image[:,:,slice_num]) for image in images]\n",
        "        fusion = zero_learning_fusion(slices)\n",
        "        if slice_num == 0:\n",
        "            Final_fusion3D = fusion\n",
        "        else:\n",
        "            Final_fusion3D = np.dstack((Final_fusion3D ,fusion))\n",
        "\n",
        "    output = nib.Nifti1Image(Final_fusion3D, np.eye(4))\n",
        "    output.header.get_xyzt_units()\n",
        "    output.to_filename(base_dir + '{}.nii.gz'.format(mode))\n",
        "    print(mode)"
      ]
    },
    {
      "cell_type": "markdown",
      "source": [
        "# Prediction"
      ],
      "metadata": {
        "id": "hsVgF1YAgqjK"
      },
      "id": "hsVgF1YAgqjK"
    },
    {
      "cell_type": "code",
      "source": [
        "# Apply data conversion for nnunet\n",
        "\n",
        "!mkdir /content/input\n",
        "imagestr = '/content/input/'\n",
        "\n",
        "shutil.copy(join(base_dir + \"t1n-t1c.nii.gz\"), join(imagestr + 'Brain_0000.nii.gz'))\n",
        "shutil.copy(join(base_dir, \"t2f.nii.gz\"), join(imagestr + 'Brain_0001.nii.gz'))\n",
        "shutil.copy(join(base_dir + \"t1c-t2w.nii.gz\"), join(imagestr + 'Brain_0002.nii.gz'))\n",
        "shutil.copy(join(base_dir + \"t1c-t2f.nii.gz\"), join(imagestr + 'Brain_0003.nii.gz'))"
      ],
      "metadata": {
        "id": "7RrwO2ANMwsW",
        "colab": {
          "base_uri": "https://localhost:8080/",
          "height": 50
        },
        "outputId": "f5f1302d-802b-44f3-eb3e-6732d7ed6ea7"
      },
      "id": "7RrwO2ANMwsW",
      "execution_count": null,
      "outputs": [
        {
          "output_type": "stream",
          "name": "stdout",
          "text": [
            "mkdir: cannot create directory ‘/content/input’: File exists\n"
          ]
        },
        {
          "output_type": "execute_result",
          "data": {
            "text/plain": [
              "'/content/input/Brain_0003.nii.gz'"
            ],
            "application/vnd.google.colaboratory.intrinsic+json": {
              "type": "string"
            }
          },
          "metadata": {},
          "execution_count": 46
        }
      ]
    },
    {
      "cell_type": "code",
      "source": [
        "!nnUNetv2_predict -i /content/input -o /content/output -d 13 -c 3d_fullres -f all -tr nnUNetTrainerDiceCELoss_noSmooth"
      ],
      "metadata": {
        "id": "16PPzYSwgvLn"
      },
      "id": "16PPzYSwgvLn",
      "execution_count": null,
      "outputs": []
    },
    {
      "cell_type": "code",
      "source": [
        "# remove all non nifti files\n",
        "\n",
        "for i in os.listdir('/content/output'):\n",
        "  if not('.nii.gz' in i):\n",
        "    p = '/content/output/' + i\n",
        "    !rm -rf $p"
      ],
      "metadata": {
        "id": "alJtU5qRhRZd"
      },
      "id": "alJtU5qRhRZd",
      "execution_count": null,
      "outputs": []
    },
    {
      "cell_type": "markdown",
      "source": [
        "# Show Output"
      ],
      "metadata": {
        "id": "yAq9RaytvbAE"
      },
      "id": "yAq9RaytvbAE"
    },
    {
      "cell_type": "markdown",
      "source": [
        "## 2D"
      ],
      "metadata": {
        "id": "9K_qxlq53tkR"
      },
      "id": "9K_qxlq53tkR"
    },
    {
      "cell_type": "code",
      "source": [
        "slice_num = 70\n",
        "\n",
        "main_img = nib.load('/content/test/t2f.nii.gz').get_fdata()\n",
        "main_img = scaler.fit_transform(main_img.reshape(-1, main_img.shape[-1])).reshape(main_img.shape)[:,:,slice_num]\n",
        "\n",
        "seg = nib.load('/content/output/Brain.nii.gz').get_fdata()\n",
        "seg = scaler.fit_transform(seg.reshape(-1, seg.shape[-1])).reshape(seg.shape)[:,:,slice_num]\n",
        "\n",
        "main = Image.fromarray(np.uint8(cm.gist_earth(main_img)*255))\n",
        "main_converter = Image.fromarray(np.uint8(cm.gist_earth(main_img)*255)).convert('L')\n",
        "seg = Image.fromarray(np.uint8(cm.gist_earth(seg)*255))\n",
        "\n",
        "a = 75\n",
        "main.putalpha(255)\n",
        "seg.putalpha(a)\n",
        "\n",
        "pixels = seg.load()\n",
        "for i in range(seg.size[0]):\n",
        "    for j in range(seg.size[1]):\n",
        "      if pixels[i,j] == (169, 179, 91, a):\n",
        "        pixels[i,j] = (255, 0, 0, a)\n",
        "      elif pixels[i,j] == (253, 250, 250, a):\n",
        "        pixels[i,j] = (0, 255, 0, a)\n",
        "      elif pixels[i,j] == (54, 135, 111, a):\n",
        "        pixels[i,j] = (0, 0, 255, a)\n",
        "\n",
        "pixels = main.load()\n",
        "change_pixels = main_converter.load()\n",
        "for i in range(seg.size[0]):\n",
        "    for j in range(seg.size[1]):\n",
        "      pixels[i,j] = (change_pixels[i,j], change_pixels[i,j], change_pixels[i,j], 255)\n",
        "\n",
        "f = Image.alpha_composite(main, seg).convert('RGB')\n",
        "f.save(\"/content/final_2d.jpg\", quality=100)\n",
        "f"
      ],
      "metadata": {
        "colab": {
          "base_uri": "https://localhost:8080/",
          "height": 256
        },
        "id": "DN_4HyDchgRy",
        "outputId": "e14c5640-f23f-4013-d413-8cd1b0785efa"
      },
      "id": "DN_4HyDchgRy",
      "execution_count": null,
      "outputs": [
        {
          "output_type": "execute_result",
          "data": {
            "text/plain": [
              "<PIL.Image.Image image mode=RGB size=240x240>"
            ],
            "image/png": "[encoded data removed]"
          },
          "metadata": {},
          "execution_count": 66
        }
      ]
    },
    {
      "cell_type": "markdown",
      "source": [
        "## 3D"
      ],
      "metadata": {
        "id": "BGrH4s-f3wt2"
      },
      "id": "BGrH4s-f3wt2"
    },
    {
      "cell_type": "code",
      "source": [
        "main_img = nib.load('/content/test/t2f.nii.gz').get_fdata()\n",
        "main_img = scaler.fit_transform(main_img.reshape(-1, main_img.shape[-1])).reshape(main_img.shape)\n",
        "\n",
        "seg = nib.load('/content/output/Brain.nii.gz').get_fdata()\n",
        "seg = scaler.fit_transform(seg.reshape(-1, seg.shape[-1])).reshape(seg.shape)\n",
        "\n",
        "a = 75\n",
        "\n",
        "for slice_num in range(155):\n",
        "\n",
        "    main_slice = Image.fromarray(np.uint8(cm.gist_earth(main_img[:,:,slice_num])*255))\n",
        "    seg_slice = Image.fromarray(np.uint8(cm.gist_earth(seg[:,:,slice_num])*255))\n",
        "    main_converter_slice =Image.fromarray(np.uint8(cm.gist_earth(main_img[:,:,slice_num])*255)).convert('L')\n",
        "    main_slice.putalpha(255)\n",
        "    seg_slice.putalpha(a)\n",
        "\n",
        "    pixels = seg_slice.load()\n",
        "    main_pixels = main_slice.load()\n",
        "    change_pixels = main_converter_slice.load()\n",
        "    for i in range(seg_slice.size[0]):\n",
        "        for j in range(seg_slice.size[1]):\n",
        "          main_pixels[i,j] = (change_pixels[i,j], change_pixels[i,j], change_pixels[i,j], 255)\n",
        "          if pixels[i,j] == (169, 179, 91, a):\n",
        "            pixels[i,j] = (255, 0, 0, a)\n",
        "          elif pixels[i,j] == (253, 250, 250, a):\n",
        "            pixels[i,j] = (0, 255, 0, a)\n",
        "          elif pixels[i,j] == (54, 135, 111, a):\n",
        "            pixels[i,j] = (0, 0, 255, a)\n",
        "\n",
        "    final = Image.alpha_composite(main_slice, seg_slice).convert('RGB')\n",
        "\n",
        "    if slice_num == 70:\n",
        "        Final = final\n",
        "    else:\n",
        "        Final = np.dstack((Final ,final))\n",
        "\n",
        "output = nib.Nifti1Image(Final, np.eye(4))\n",
        "output.header.get_xyzt_units()\n",
        "output.to_filename('/content/' + 'final_3d.nii.gz')"
      ],
      "metadata": {
        "id": "HvM6YK8UxlHL"
      },
      "id": "HvM6YK8UxlHL",
      "execution_count": null,
      "outputs": []
    }
  ],
  "metadata": {
    "kernelspec": {
      "display_name": "Python 3",
      "name": "python3"
    },
    "language_info": {
      "codemirror_mode": {
        "name": "ipython",
        "version": 3
      },
      "file_extension": ".py",
      "mimetype": "text/x-python",
      "name": "python",
      "nbconvert_exporter": "python",
      "pygments_lexer": "ipython3",
      "version": "3.10.12"
    },
    "colab": {
      "provenance": [],
      "gpuType": "T4",
      "collapsed_sections": [
        "XJKPa_K3eisE",
        "BGrH4s-f3wt2"
      ]
    },
    "accelerator": "GPU"
  },
  "nbformat": 4,
  "nbformat_minor": 5
}